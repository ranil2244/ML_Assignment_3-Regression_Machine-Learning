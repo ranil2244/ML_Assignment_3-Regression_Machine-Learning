{
  "nbformat": 4,
  "nbformat_minor": 0,
  "metadata": {
    "colab": {
      "provenance": []
    },
    "kernelspec": {
      "name": "python3",
      "display_name": "Python 3"
    },
    "language_info": {
      "name": "python"
    }
  },
  "cells": [
    {
      "cell_type": "markdown",
      "source": [
        "# **1.Loading and Preprocessing (2 marks):**"
      ],
      "metadata": {
        "id": "ztgw7LqGWoE5"
      }
    },
    {
      "cell_type": "code",
      "execution_count": null,
      "metadata": {
        "colab": {
          "base_uri": "https://localhost:8080/"
        },
        "id": "VCSTlAaWAP3P",
        "outputId": "2f73d134-af2c-4b43-9bc6-bdd518578c3e"
      },
      "outputs": [
        {
          "output_type": "stream",
          "name": "stdout",
          "text": [
            "Missing values:\n",
            " MedInc         0\n",
            "HouseAge       0\n",
            "AveRooms       0\n",
            "AveBedrms      0\n",
            "Population     0\n",
            "AveOccup       0\n",
            "Latitude       0\n",
            "Longitude      0\n",
            "MedHouseVal    0\n",
            "dtype: int64\n"
          ]
        }
      ],
      "source": [
        "import pandas as pd\n",
        "import numpy as np\n",
        "from sklearn.datasets import fetch_california_housing\n",
        "from sklearn.preprocessing import StandardScaler\n",
        "from sklearn.model_selection import train_test_split\n",
        "\n",
        "# Load the dataset\n",
        "california = fetch_california_housing()\n",
        "data = pd.DataFrame(california.data, columns=california.feature_names)\n",
        "data['MedHouseVal'] = california.target\n",
        "\n",
        "# Check for missing values\n",
        "print(\"Missing values:\\n\", data.isnull().sum())\n",
        "\n",
        "# Feature scaling\n",
        "scaler = StandardScaler()\n",
        "features = california.feature_names\n",
        "data[features] = scaler.fit_transform(data[features])\n",
        "\n",
        "# Split data into features and target\n",
        "X = data.drop('MedHouseVal', axis=1)\n",
        "y = data['MedHouseVal']\n",
        "\n",
        "# Split into train and test sets\n",
        "X_train, X_test, y_train, y_test = train_test_split(X, y, test_size=0.2, random_state=42)"
      ]
    },
    {
      "cell_type": "markdown",
      "source": [
        "# 2.Regression Algorithm Implementation (5 marks):\n",
        " Implement the following regression algorithms:"
      ],
      "metadata": {
        "id": "DsD5J9mUYsSf"
      }
    },
    {
      "cell_type": "markdown",
      "source": [
        "# **Linear Regression**"
      ],
      "metadata": {
        "id": "EmliEp-iCGYS"
      }
    },
    {
      "cell_type": "code",
      "source": [
        "from sklearn.linear_model import LinearRegression\n",
        "from sklearn.metrics import mean_squared_error, mean_absolute_error, r2_score\n",
        "\n",
        "lr = LinearRegression()\n",
        "lr.fit(X_train, y_train)\n",
        "y_pred = lr.predict(X_test)\n",
        "\n",
        "print(\"Linear Regression:\")\n",
        "print(\"MSE:\", mean_squared_error(y_test, y_pred))\n",
        "print(\"MAE:\", mean_absolute_error(y_test, y_pred))\n",
        "print(\"R²:\", r2_score(y_test, y_pred))"
      ],
      "metadata": {
        "colab": {
          "base_uri": "https://localhost:8080/"
        },
        "id": "-Mtw1Lk7Aa8K",
        "outputId": "66505ba7-9a8b-45b7-c00b-f070f568a6e9"
      },
      "execution_count": null,
      "outputs": [
        {
          "output_type": "stream",
          "name": "stdout",
          "text": [
            "Linear Regression:\n",
            "MSE: 0.5558915986952441\n",
            "MAE: 0.5332001304956565\n",
            "R²: 0.575787706032451\n"
          ]
        }
      ]
    },
    {
      "cell_type": "markdown",
      "source": [
        "# **Decision Tree Regressor**"
      ],
      "metadata": {
        "id": "G7OtdeYmCXCd"
      }
    },
    {
      "cell_type": "code",
      "source": [
        "from sklearn.tree import DecisionTreeRegressor\n",
        "\n",
        "dt = DecisionTreeRegressor(random_state=42)\n",
        "dt.fit(X_train, y_train)\n",
        "y_pred = dt.predict(X_test)\n",
        "\n",
        "print(\"\\nDecision Tree Regressor:\")\n",
        "print(\"MSE:\", mean_squared_error(y_test, y_pred))\n",
        "print(\"MAE:\", mean_absolute_error(y_test, y_pred))\n",
        "print(\"R²:\", r2_score(y_test, y_pred))"
      ],
      "metadata": {
        "colab": {
          "base_uri": "https://localhost:8080/"
        },
        "id": "6XLfAagECCIi",
        "outputId": "1870feb0-57bd-4885-c9ad-10121abef4b7"
      },
      "execution_count": null,
      "outputs": [
        {
          "output_type": "stream",
          "name": "stdout",
          "text": [
            "\n",
            "Decision Tree Regressor:\n",
            "MSE: 0.4942716777366763\n",
            "MAE: 0.4537843265503876\n",
            "R²: 0.6228111330554302\n"
          ]
        }
      ]
    },
    {
      "cell_type": "markdown",
      "source": [
        "# **Random Forest Regressor**"
      ],
      "metadata": {
        "id": "pRJ28PndC7Nf"
      }
    },
    {
      "cell_type": "code",
      "source": [
        "from sklearn.ensemble import RandomForestRegressor\n",
        "\n",
        "rf = RandomForestRegressor(random_state=42)\n",
        "rf.fit(X_train, y_train)\n",
        "y_pred = rf.predict(X_test)\n",
        "\n",
        "print(\"\\nRandom Forest Regressor:\")\n",
        "print(\"MSE:\", mean_squared_error(y_test, y_pred))\n",
        "print(\"MAE:\", mean_absolute_error(y_test, y_pred))\n",
        "print(\"R²:\", r2_score(y_test, y_pred))"
      ],
      "metadata": {
        "colab": {
          "base_uri": "https://localhost:8080/"
        },
        "id": "1ehyvzAtBb7E",
        "outputId": "ee7df8d3-d537-4eec-93ce-27c2832168c6"
      },
      "execution_count": null,
      "outputs": [
        {
          "output_type": "stream",
          "name": "stdout",
          "text": [
            "\n",
            "Random Forest Regressor:\n",
            "MSE: 0.25549776668540763\n",
            "MAE: 0.32761306601259704\n",
            "R²: 0.805024407701793\n"
          ]
        }
      ]
    },
    {
      "cell_type": "markdown",
      "source": [
        "# **Gradient Boosting Regressor**"
      ],
      "metadata": {
        "id": "yz_5GW2oDjpG"
      }
    },
    {
      "cell_type": "code",
      "source": [
        "from sklearn.ensemble import GradientBoostingRegressor\n",
        "\n",
        "gb = GradientBoostingRegressor(random_state=42)\n",
        "gb.fit(X_train, y_train)\n",
        "y_pred = gb.predict(X_test)\n",
        "\n",
        "print(\"\\nGradient Boosting Regressor:\")\n",
        "print(\"MSE:\", mean_squared_error(y_test, y_pred))\n",
        "print(\"MAE:\", mean_absolute_error(y_test, y_pred))\n",
        "print(\"R²:\", r2_score(y_test, y_pred))"
      ],
      "metadata": {
        "colab": {
          "base_uri": "https://localhost:8080/"
        },
        "id": "aaQjY3sNDIua",
        "outputId": "356ac55a-b038-4c04-e746-78f1b7c7dfc7"
      },
      "execution_count": null,
      "outputs": [
        {
          "output_type": "stream",
          "name": "stdout",
          "text": [
            "\n",
            "Gradient Boosting Regressor:\n",
            "MSE: 0.29399901242474274\n",
            "MAE: 0.37165044848436773\n",
            "R²: 0.7756433164710084\n"
          ]
        }
      ]
    },
    {
      "cell_type": "markdown",
      "source": [
        "# **Support Vector Regressor (SVR)**\n",
        " For each algorithm:"
      ],
      "metadata": {
        "id": "RGXZXManDt-S"
      }
    },
    {
      "cell_type": "code",
      "source": [
        "from sklearn.svm import SVR\n",
        "\n",
        "svr = SVR()\n",
        "svr.fit(X_train, y_train)\n",
        "y_pred = svr.predict(X_test)\n",
        "\n",
        "print(\"\\nSupport Vector Regressor:\")\n",
        "print(\"MSE:\", mean_squared_error(y_test, y_pred))\n",
        "print(\"MAE:\", mean_absolute_error(y_test, y_pred))\n",
        "print(\"R²:\", r2_score(y_test, y_pred))"
      ],
      "metadata": {
        "colab": {
          "base_uri": "https://localhost:8080/"
        },
        "id": "YKGCTG39Do-y",
        "outputId": "2ed41132-0724-4b4d-f242-18290383a43a"
      },
      "execution_count": null,
      "outputs": [
        {
          "output_type": "stream",
          "name": "stdout",
          "text": [
            "\n",
            "Support Vector Regressor:\n",
            "MSE: 0.3551984619989418\n",
            "MAE: 0.3977630963437868\n",
            "R²: 0.7289407597956463\n"
          ]
        }
      ]
    },
    {
      "cell_type": "markdown",
      "source": [
        "# **Provide a brief explanation of how it works**"
      ],
      "metadata": {
        "id": "NG_kySlbETSr"
      }
    },
    {
      "cell_type": "markdown",
      "source": [
        "Explanation of Preprocessing Steps\n",
        "Loading the Dataset:\n",
        "\n",
        "The fetch_california_housing function provides easy access to the dataset\n",
        "\n",
        "Converting to a pandas DataFrame allows for more intuitive data manipulation and exploration\n",
        "\n",
        "Handling Missing Values:\n",
        "\n",
        "No missing values were found in this dataset (confirmed with isnull().sum())\n",
        "\n",
        "If present, missing values would need to be addressed because most ML algorithms cannot handle them directly\n",
        "\n",
        "The approach would depend on the nature and amount of missing data\n",
        "\n",
        "Feature Scaling:\n",
        "\n",
        "Standardization (subtracting mean and dividing by standard deviation) was performed\n",
        "\n",
        "Justification:\n",
        "\n",
        "Features in this dataset have different scales (e.g., 'AveRooms' vs. 'Latitude')\n",
        "\n",
        "Many ML algorithms (especially distance-based ones like SVM, KNN) perform better when features are on similar scales\n",
        "\n",
        "Gradient descent-based algorithms converge faster with standardized features\n",
        "\n",
        "Regularization becomes more effective when features are scaled"
      ],
      "metadata": {
        "id": "xSCBQgC5h4Bq"
      }
    },
    {
      "cell_type": "markdown",
      "source": [
        "# **Model Evaluation and Comparison (2 marks):**"
      ],
      "metadata": {
        "id": "4iQ6rR6wgfJy"
      }
    },
    {
      "cell_type": "code",
      "source": [
        "from sklearn.datasets import fetch_california_housing\n",
        "from sklearn.model_selection import train_test_split\n",
        "from sklearn.preprocessing import StandardScaler\n",
        "from sklearn.metrics import mean_squared_error, mean_absolute_error, r2_score\n",
        "from sklearn.linear_model import LinearRegression\n",
        "from sklearn.tree import DecisionTreeRegressor\n",
        "from sklearn.ensemble import RandomForestRegressor\n",
        "from sklearn.svm import SVR\n",
        "from sklearn.neighbors import KNeighborsRegressor\n",
        "import pandas as pd\n",
        "\n",
        "# 1. Load and prepare data\n",
        "california_housing = fetch_california_housing(as_frame=True)\n",
        "X = california_housing.data\n",
        "y = california_housing.target\n",
        "\n",
        "# 2. Preprocessing - scaling\n",
        "scaler = StandardScaler()\n",
        "X_scaled = scaler.fit_transform(X)  # This creates our properly scaled features\n",
        "\n",
        "# 3. Train-test split\n",
        "X_train, X_test, y_train, y_test = train_test_split(\n",
        "    X_scaled, y, test_size=0.2, random_state=42\n",
        ")\n",
        "\n",
        "# 4. Define models to compare\n",
        "models = {\n",
        "    \"Linear Regression\": LinearRegression(),\n",
        "    \"Decision Tree\": DecisionTreeRegressor(random_state=42),\n",
        "    \"Random Forest\": RandomForestRegressor(random_state=42),\n",
        "    \"SVR\": SVR(),\n",
        "    \"K-Neighbors\": KNeighborsRegressor()\n",
        "}\n",
        "\n",
        "# 5. Evaluation function\n",
        "def evaluate_model(model, X_test, y_test):\n",
        "    y_pred = model.predict(X_test)\n",
        "    return {\n",
        "        \"MSE\": mean_squared_error(y_test, y_pred),\n",
        "        \"MAE\": mean_absolute_error(y_test, y_pred),\n",
        "        \"R2\": r2_score(y_test, y_pred)\n",
        "    }\n",
        "\n",
        "# 6. Train and evaluate all models\n",
        "results = {}\n",
        "for name, model in models.items():\n",
        "    model.fit(X_train, y_train)\n",
        "    results[name] = evaluate_model(model, X_test, y_test)\n",
        "\n",
        "# 7. Display results\n",
        "results_df = pd.DataFrame(results).T\n",
        "print(results_df)"
      ],
      "metadata": {
        "colab": {
          "base_uri": "https://localhost:8080/"
        },
        "id": "EdB1mKdhbYKu",
        "outputId": "df894f4e-04ef-4afb-faec-940d102eab47"
      },
      "execution_count": null,
      "outputs": [
        {
          "output_type": "stream",
          "name": "stdout",
          "text": [
            "                        MSE       MAE        R2\n",
            "Linear Regression  0.555892  0.533200  0.575788\n",
            "Decision Tree      0.494272  0.453784  0.622811\n",
            "Random Forest      0.255498  0.327613  0.805024\n",
            "SVR                0.355198  0.397763  0.728941\n",
            "K-Neighbors        0.433811  0.445525  0.668950\n"
          ]
        }
      ]
    },
    {
      "cell_type": "code",
      "source": [],
      "metadata": {
        "id": "YfhHySpYfd1O"
      },
      "execution_count": null,
      "outputs": []
    }
  ]
}